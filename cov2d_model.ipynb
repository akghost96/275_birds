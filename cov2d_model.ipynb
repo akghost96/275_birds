{
 "cells": [
  {
   "cell_type": "code",
   "execution_count": null,
   "source": [
    "import tensorflow as tf\r\n",
    "import numpy as np\r\n",
    "import matplotlib.pyplot as plt\r\n"
   ],
   "outputs": [],
   "metadata": {}
  },
  {
   "cell_type": "code",
   "execution_count": null,
   "source": [
    "training_set='F:/Birds/train'\r\n",
    "test_set='F:/Birds/test'\r\n",
    "validation_set= 'F:/Birds/valid'\r\n",
    "\r\n",
    "img_size = 224"
   ],
   "outputs": [],
   "metadata": {}
  },
  {
   "cell_type": "code",
   "execution_count": null,
   "source": [
    "data_aug = tf.keras.Sequential([\r\n",
    "    tf.keras.layers.experimental.preprocessing.Rescaling(scale=1./255),\r\n",
    "   # tf.keras.layers.experimental.preprocessing.RandomFlip( mode='horizontal' ),\r\n",
    "   # tf.keras.layers.experimental.preprocessing.RandomRotation(0.45),\r\n",
    "   # tf.keras.layers.experimental.preprocessing.RandomWidth(0.3),\r\n",
    "   # tf.keras.layers.experimental.preprocessing.RandomHeight(0.3),\r\n",
    "   # tf.keras.layers.experimental.preprocessing.RandomZoom(0.2)\r\n",
    "\r\n",
    "])\r\n",
    "data_aug_test = tf.keras.Sequential([\r\n",
    "    tf.keras.layers.experimental.preprocessing.Rescaling(scale=1./255)\r\n",
    "])"
   ],
   "outputs": [],
   "metadata": {}
  },
  {
   "cell_type": "code",
   "execution_count": null,
   "source": [
    "train = tf.keras.preprocessing.image_dataset_from_directory(training_set, labels='inferred', label_mode='int',color_mode='rgb',batch_size=128, image_size=(img_size , img_size),shuffle=True)\r\n",
    "num_classes = len(train.class_names)\r\n",
    "train= train.map(lambda x,y:(data_aug(x,training=True),y),num_parallel_calls=12).cache().prefetch(buffer_size=tf.data.AUTOTUNE)"
   ],
   "outputs": [],
   "metadata": {}
  },
  {
   "cell_type": "code",
   "execution_count": null,
   "source": [
    "validation = tf.keras.preprocessing.image_dataset_from_directory(validation_set,label_mode='int',color_mode='rgb',batch_size=128,image_size=(img_size,img_size),shuffle=True,seed=52)\r\n",
    "validation = validation.map(lambda x,y:(data_aug_test(x,training=True),y),num_parallel_calls=12).cache().prefetch(buffer_size=tf.data.AUTOTUNE)"
   ],
   "outputs": [],
   "metadata": {}
  },
  {
   "cell_type": "code",
   "execution_count": null,
   "source": [
    "test = tf.keras.preprocessing.image_dataset_from_directory(test_set,label_mode='int',color_mode='rgb',batch_size=128,image_size=(img_size,img_size),shuffle=True,seed=52)\r\n",
    "test = test.map(lambda x,y:(data_aug_test(x,training=True),y),num_parallel_calls=12).cache().prefetch(buffer_size=tf.data.AUTOTUNE)"
   ],
   "outputs": [],
   "metadata": {}
  },
  {
   "cell_type": "code",
   "execution_count": null,
   "source": [
    "model = tf.keras.Sequential([\r\n",
    "        tf.keras.layers.Conv2D(512,2,2,padding='same',activation='relu',input_shape=(img_size,img_size,3)),\r\n",
    "        tf.keras.layers.MaxPooling2D(2),\r\n",
    "        tf.keras.layers.Conv2D(512,2,2,padding='same',activation='relu'),\r\n",
    "        tf.keras.layers.MaxPooling2D(2),\r\n",
    "        tf.keras.layers.Conv2D(1536,2,2,padding='same',activation='relu'),\r\n",
    "        #tf.keras.layers.MaxPooling2D(2),\r\n",
    "        #tf.keras.layers.Conv2D(1024,2,2,padding='same',activation='relu'),\r\n",
    "        # tf.keras.layers.MaxPooling2D(2),\r\n",
    "       # tf.keras.layers.Conv2D(1024,2,2,padding='same',activation='relu'),\r\n",
    "        tf.keras.layers.Flatten(),\r\n",
    "        tf.keras.layers.Dense(2048,activation='relu'),\r\n",
    "        tf.keras.layers.Dropout(0.3),\r\n",
    "        tf.keras.layers.Dense(1024,activation='relu'),\r\n",
    "        tf.keras.layers.Dropout(0.3),\r\n",
    "        tf.keras.layers.Dense(num_classes,activation='softmax')\r\n",
    "])\r\n"
   ],
   "outputs": [],
   "metadata": {}
  },
  {
   "cell_type": "code",
   "execution_count": null,
   "source": [
    "model.summary()\r\n",
    "#tf.keras.utils.plot_model(model,to_file='model.png',show_shapes=True, show_dtype=True)"
   ],
   "outputs": [],
   "metadata": {}
  },
  {
   "cell_type": "code",
   "execution_count": null,
   "source": [
    "model.compile(optimizer='adam',loss='sparse_categorical_crossentropy',metrics=['acc'])"
   ],
   "outputs": [],
   "metadata": {}
  },
  {
   "cell_type": "code",
   "execution_count": null,
   "source": [
    "history = model.fit(train,epochs=10,validation_data=validation)"
   ],
   "outputs": [],
   "metadata": {}
  },
  {
   "cell_type": "code",
   "execution_count": null,
   "source": [
    "model.evaluate(test)"
   ],
   "outputs": [],
   "metadata": {}
  }
 ],
 "metadata": {
  "orig_nbformat": 4,
  "language_info": {
   "name": "python",
   "version": "3.9.6",
   "mimetype": "text/x-python",
   "codemirror_mode": {
    "name": "ipython",
    "version": 3
   },
   "pygments_lexer": "ipython3",
   "nbconvert_exporter": "python",
   "file_extension": ".py"
  },
  "kernelspec": {
   "name": "python3",
   "display_name": "Python 3.9.6 64-bit"
  },
  "interpreter": {
   "hash": "71da8102031d35fa1af3fda8c0c685000f00e853a9e2079a640f42dc86bc2fc0"
  }
 },
 "nbformat": 4,
 "nbformat_minor": 2
}