{
 "cells": [
  {
   "cell_type": "code",
   "execution_count": 1,
   "source": [
    "import tensorflow as tf\r\n",
    "import numpy as np\r\n",
    "import matplotlib.pyplot as plt\r\n",
    "import tensorflow_hub as tfhub\r\n"
   ],
   "outputs": [],
   "metadata": {}
  },
  {
   "cell_type": "code",
   "execution_count": 2,
   "source": [
    "training_set='F:/Birds/train'\r\n",
    "test_set='F:/Birds/test'\r\n",
    "validation_set= 'F:/Birds/valid'\r\n",
    "resnet152= 'https://tfhub.dev/google/imagenet/resnet_v2_152/feature_vector/5'\r\n",
    "inceptionv3 = 'https://tfhub.dev/google/inaturalist/inception_v3/feature_vector/5'\r\n",
    "\r\n",
    "img_size = 224"
   ],
   "outputs": [],
   "metadata": {}
  },
  {
   "cell_type": "code",
   "execution_count": 3,
   "source": [
    "data_aug = tf.keras.Sequential([\r\n",
    "    tf.keras.layers.experimental.preprocessing.Rescaling(scale=1./255),\r\n",
    "    tf.keras.layers.experimental.preprocessing.RandomFlip( mode='horizontal' ),\r\n",
    "    tf.keras.layers.experimental.preprocessing.RandomRotation(0.4),\r\n",
    "   # tf.keras.layers.experimental.preprocessing.RandomWidth(0.3),\r\n",
    "   # tf.keras.layers.experimental.preprocessing.RandomHeight(0.3),\r\n",
    "    tf.keras.layers.experimental.preprocessing.RandomZoom(0.3)\r\n",
    "\r\n",
    "])\r\n",
    "data_aug_test = tf.keras.Sequential([\r\n",
    "    tf.keras.layers.experimental.preprocessing.Rescaling(scale=1./255)\r\n",
    "])"
   ],
   "outputs": [],
   "metadata": {}
  },
  {
   "cell_type": "code",
   "execution_count": 4,
   "source": [
    "train = tf.keras.preprocessing.image_dataset_from_directory(training_set, labels='inferred', label_mode='int',color_mode='rgb',batch_size=64, image_size=(img_size , img_size),shuffle=True)\r\n",
    "num_classes = len(train.class_names)\r\n",
    "train= train.map(lambda x,y:(data_aug(x,training=True),y),num_parallel_calls=12).cache().prefetch(buffer_size=tf.data.AUTOTUNE)"
   ],
   "outputs": [
    {
     "output_type": "stream",
     "name": "stdout",
     "text": [
      "Found 39364 files belonging to 275 classes.\n"
     ]
    }
   ],
   "metadata": {}
  },
  {
   "cell_type": "code",
   "execution_count": 5,
   "source": [
    "validation = tf.keras.preprocessing.image_dataset_from_directory(validation_set,label_mode='int',color_mode='rgb',batch_size=64,image_size=(img_size,img_size),shuffle=True,seed=52)\r\n",
    "validation = validation.map(lambda x,y:(data_aug_test(x,training=True),y),num_parallel_calls=12).cache().prefetch(buffer_size=tf.data.AUTOTUNE)"
   ],
   "outputs": [
    {
     "output_type": "stream",
     "name": "stdout",
     "text": [
      "Found 1375 files belonging to 275 classes.\n"
     ]
    }
   ],
   "metadata": {}
  },
  {
   "cell_type": "code",
   "execution_count": 6,
   "source": [
    "test = tf.keras.preprocessing.image_dataset_from_directory(test_set,label_mode='int',color_mode='rgb',batch_size=128,image_size=(img_size,img_size),shuffle=True,seed=52)\r\n",
    "test = test.map(lambda x,y:(data_aug_test(x,training=True),y),num_parallel_calls=12).cache().prefetch(buffer_size=tf.data.AUTOTUNE)"
   ],
   "outputs": [
    {
     "output_type": "stream",
     "name": "stdout",
     "text": [
      "Found 1375 files belonging to 275 classes.\n"
     ]
    }
   ],
   "metadata": {}
  },
  {
   "cell_type": "code",
   "execution_count": 7,
   "source": [
    "resnet = tfhub.KerasLayer(resnet152,trainable=False,input_shape=[img_size,img_size,3])\r\n",
    "inception = tfhub.KerasLayer(inceptionv3,trainable=True,input_shape=[img_size,img_size,3])"
   ],
   "outputs": [],
   "metadata": {}
  },
  {
   "cell_type": "code",
   "execution_count": 8,
   "source": [
    "model = tf.keras.Sequential([\r\n",
    "    inception,\r\n",
    "    tf.keras.layers.Dense(num_classes,activation='softmax')\r\n",
    "])"
   ],
   "outputs": [],
   "metadata": {}
  },
  {
   "cell_type": "code",
   "execution_count": 9,
   "source": [
    "model.summary()"
   ],
   "outputs": [
    {
     "output_type": "stream",
     "name": "stdout",
     "text": [
      "Model: \"sequential_2\"\n",
      "_________________________________________________________________\n",
      "Layer (type)                 Output Shape              Param #   \n",
      "=================================================================\n",
      "keras_layer_1 (KerasLayer)   (None, 2048)              21802784  \n",
      "_________________________________________________________________\n",
      "dense (Dense)                (None, 275)               563475    \n",
      "=================================================================\n",
      "Total params: 22,366,259\n",
      "Trainable params: 22,331,827\n",
      "Non-trainable params: 34,432\n",
      "_________________________________________________________________\n"
     ]
    }
   ],
   "metadata": {}
  },
  {
   "cell_type": "code",
   "execution_count": 10,
   "source": [
    "model.compile(optimizer='adam',loss='sparse_categorical_crossentropy',metrics=['acc'])"
   ],
   "outputs": [],
   "metadata": {}
  },
  {
   "cell_type": "code",
   "execution_count": 11,
   "source": [
    "hisotory = model.fit(train, epochs=10, validation_data=validation)"
   ],
   "outputs": [
    {
     "output_type": "stream",
     "name": "stdout",
     "text": [
      "Epoch 1/10\n",
      "616/616 [==============================] - 117s 176ms/step - loss: 2.0975 - acc: 0.5841 - val_loss: 1.3867 - val_acc: 0.7222\n",
      "Epoch 2/10\n",
      "616/616 [==============================] - 102s 166ms/step - loss: 1.0775 - acc: 0.8162 - val_loss: 1.5002 - val_acc: 0.7345\n",
      "Epoch 3/10\n",
      "616/616 [==============================] - 102s 166ms/step - loss: 0.8775 - acc: 0.8769 - val_loss: 1.5131 - val_acc: 0.7433\n",
      "Epoch 4/10\n",
      "616/616 [==============================] - 106s 173ms/step - loss: 0.8253 - acc: 0.8975 - val_loss: 1.1607 - val_acc: 0.8182\n",
      "Epoch 5/10\n",
      "616/616 [==============================] - 113s 183ms/step - loss: 0.7941 - acc: 0.9149 - val_loss: 1.6324 - val_acc: 0.7425\n",
      "Epoch 6/10\n",
      "616/616 [==============================] - 112s 182ms/step - loss: 0.7796 - acc: 0.9269 - val_loss: 1.3484 - val_acc: 0.8145\n",
      "Epoch 7/10\n",
      "616/616 [==============================] - 112s 182ms/step - loss: 0.7755 - acc: 0.9341 - val_loss: 2.0266 - val_acc: 0.6836\n",
      "Epoch 8/10\n",
      "616/616 [==============================] - 112s 182ms/step - loss: 0.7917 - acc: 0.9345 - val_loss: 1.4469 - val_acc: 0.7804\n",
      "Epoch 9/10\n",
      "616/616 [==============================] - 112s 182ms/step - loss: 0.7715 - acc: 0.9444 - val_loss: 2.0595 - val_acc: 0.6807\n",
      "Epoch 10/10\n",
      "616/616 [==============================] - 111s 181ms/step - loss: 0.7704 - acc: 0.9467 - val_loss: 1.2345 - val_acc: 0.8473\n"
     ]
    }
   ],
   "metadata": {}
  },
  {
   "cell_type": "code",
   "execution_count": 13,
   "source": [
    "model.evaluate(test)"
   ],
   "outputs": [
    {
     "output_type": "stream",
     "name": "stdout",
     "text": [
      "11/11 [==============================] - 1s 76ms/step - loss: 1.1457 - acc: 0.8589\n"
     ]
    },
    {
     "output_type": "execute_result",
     "data": {
      "text/plain": [
       "[1.1456815004348755, 0.8589090704917908]"
      ]
     },
     "metadata": {},
     "execution_count": 13
    }
   ],
   "metadata": {}
  },
  {
   "cell_type": "code",
   "execution_count": null,
   "source": [],
   "outputs": [],
   "metadata": {}
  }
 ],
 "metadata": {
  "orig_nbformat": 4,
  "language_info": {
   "name": "python",
   "version": "3.9.6",
   "mimetype": "text/x-python",
   "codemirror_mode": {
    "name": "ipython",
    "version": 3
   },
   "pygments_lexer": "ipython3",
   "nbconvert_exporter": "python",
   "file_extension": ".py"
  },
  "kernelspec": {
   "name": "python3",
   "display_name": "Python 3.9.6 64-bit"
  },
  "interpreter": {
   "hash": "71da8102031d35fa1af3fda8c0c685000f00e853a9e2079a640f42dc86bc2fc0"
  }
 },
 "nbformat": 4,
 "nbformat_minor": 2
}