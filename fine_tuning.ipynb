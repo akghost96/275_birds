{
 "cells": [
  {
   "cell_type": "code",
   "execution_count": 1,
   "source": [
    "import tensorflow as tf\r\n",
    "import numpy as np\r\n",
    "import matplotlib.pyplot as plt\r\n",
    "import tensorflow_hub as tfhub\r\n",
    "tf.keras.mixed_precision.set_global_policy('mixed_float16')\r\n"
   ],
   "outputs": [
    {
     "output_type": "stream",
     "name": "stdout",
     "text": [
      "INFO:tensorflow:Mixed precision compatibility check (mixed_float16): OK\n",
      "Your GPU will likely run quickly with dtype policy mixed_float16 as it has compute capability of at least 7.0. Your GPU: NVIDIA GeForce RTX 3090, compute capability 8.6\n"
     ]
    }
   ],
   "metadata": {}
  },
  {
   "cell_type": "code",
   "execution_count": 2,
   "source": [
    "training_set='F:/Birds/train'\r\n",
    "test_set='F:/Birds/test'\r\n",
    "validation_set= 'F:/Birds/valid'\r\n",
    "\r\n",
    "img_size = 224\r\n",
    "input_shape=(224,224,3)"
   ],
   "outputs": [],
   "metadata": {}
  },
  {
   "cell_type": "code",
   "execution_count": 3,
   "source": [
    "data_aug = tf.keras.Sequential([\r\n",
    "    tf.keras.layers.experimental.preprocessing.Rescaling(scale=1./255),\r\n",
    "    tf.keras.layers.experimental.preprocessing.RandomFlip( mode='horizontal' ),\r\n",
    "    tf.keras.layers.experimental.preprocessing.RandomRotation(0.4),\r\n",
    "   # tf.keras.layers.experimental.preprocessing.RandomWidth(0.3),\r\n",
    "   # tf.keras.layers.experimental.preprocessing.RandomHeight(0.3),\r\n",
    "    tf.keras.layers.experimental.preprocessing.RandomZoom(0.3)\r\n",
    "\r\n",
    "])\r\n",
    "data_aug_test = tf.keras.Sequential([\r\n",
    "    tf.keras.layers.experimental.preprocessing.Rescaling(scale=1./255)\r\n",
    "])"
   ],
   "outputs": [],
   "metadata": {}
  },
  {
   "cell_type": "code",
   "execution_count": 4,
   "source": [
    "train = tf.keras.preprocessing.image_dataset_from_directory(training_set, labels='inferred', label_mode='int',color_mode='rgb',batch_size=64, image_size=(img_size , img_size),shuffle=True)\r\n",
    "num_classes = len(train.class_names)\r\n",
    "train= train.map(lambda x,y:(data_aug(x,training=True),y),num_parallel_calls=12).cache().prefetch(buffer_size=tf.data.AUTOTUNE)"
   ],
   "outputs": [
    {
     "output_type": "stream",
     "name": "stdout",
     "text": [
      "Found 39364 files belonging to 275 classes.\n"
     ]
    }
   ],
   "metadata": {}
  },
  {
   "cell_type": "code",
   "execution_count": 5,
   "source": [
    "validation = tf.keras.preprocessing.image_dataset_from_directory(validation_set,label_mode='int',color_mode='rgb',batch_size=64,image_size=(img_size,img_size),shuffle=True,seed=52)\r\n",
    "validation = validation.map(lambda x,y:(data_aug_test(x,training=True),y),num_parallel_calls=12).cache().prefetch(buffer_size=tf.data.AUTOTUNE)"
   ],
   "outputs": [
    {
     "output_type": "stream",
     "name": "stdout",
     "text": [
      "Found 1375 files belonging to 275 classes.\n"
     ]
    }
   ],
   "metadata": {}
  },
  {
   "cell_type": "code",
   "execution_count": 6,
   "source": [
    "test = tf.keras.preprocessing.image_dataset_from_directory(test_set,label_mode='int',color_mode='rgb',batch_size=128,image_size=(img_size,img_size),shuffle=True,seed=52)\r\n",
    "test = test.map(lambda x,y:(data_aug_test(x,training=True),y),num_parallel_calls=12).cache().prefetch(buffer_size=tf.data.AUTOTUNE)"
   ],
   "outputs": [
    {
     "output_type": "stream",
     "name": "stdout",
     "text": [
      "Found 1375 files belonging to 275 classes.\n"
     ]
    }
   ],
   "metadata": {}
  },
  {
   "cell_type": "code",
   "execution_count": 7,
   "source": [
    "model_path = 'F:/Birds/checkpoint'\r\n",
    "callback = tf.keras.callbacks.ModelCheckpoint(model_path, save_weights_only=True, monitor='val_acc',save_best_only=True)"
   ],
   "outputs": [],
   "metadata": {}
  },
  {
   "cell_type": "code",
   "execution_count": 8,
   "source": [
    "transfer_model = tf.keras.applications.Xception(include_top=False)\r\n",
    "transfer_model.trainable=False\r\n",
    "#tf.keras.utils.plot_model(transfer_model,show_shapes=True,expand_nested=True)"
   ],
   "outputs": [
    {
     "output_type": "stream",
     "name": "stdout",
     "text": [
      "Downloading data from https://storage.googleapis.com/tensorflow/keras-applications/xception/xception_weights_tf_dim_ordering_tf_kernels_notop.h5\n",
      "83689472/83683744 [==============================] - 2s 0us/step\n"
     ]
    }
   ],
   "metadata": {}
  },
  {
   "cell_type": "code",
   "execution_count": 9,
   "source": [
    "inputs = tf.keras.layers.Input(shape=input_shape, name='inputs')"
   ],
   "outputs": [],
   "metadata": {}
  },
  {
   "cell_type": "code",
   "execution_count": 10,
   "source": [
    "x = transfer_model(inputs, training=False)\r\n",
    "x = tf.keras.layers.GlobalAveragePooling2D(name='pooling')(x)\r\n",
    "x = tf.keras.layers.Dense(num_classes)(x)\r\n",
    "outputs = tf.keras.layers.Activation('softmax',dtype=tf.float32,name='softmax_folat32')(x)"
   ],
   "outputs": [],
   "metadata": {}
  },
  {
   "cell_type": "code",
   "execution_count": 11,
   "source": [
    "model = tf.keras.Model(inputs,outputs)"
   ],
   "outputs": [],
   "metadata": {}
  },
  {
   "cell_type": "code",
   "execution_count": 12,
   "source": [
    "model.compile(loss='sparse_categorical_crossentropy',\r\n",
    "              optimizer = 'adam',\r\n",
    "              metrics=['acc']\r\n",
    "              )"
   ],
   "outputs": [],
   "metadata": {}
  },
  {
   "cell_type": "code",
   "execution_count": 13,
   "source": [
    "model.summary()"
   ],
   "outputs": [
    {
     "output_type": "stream",
     "name": "stdout",
     "text": [
      "Model: \"model\"\n",
      "_________________________________________________________________\n",
      "Layer (type)                 Output Shape              Param #   \n",
      "=================================================================\n",
      "inputs (InputLayer)          [(None, 224, 224, 3)]     0         \n",
      "_________________________________________________________________\n",
      "xception (Functional)        (None, None, None, 2048)  20861480  \n",
      "_________________________________________________________________\n",
      "pooling (GlobalAveragePoolin (None, 2048)              0         \n",
      "_________________________________________________________________\n",
      "dense (Dense)                (None, 275)               563475    \n",
      "_________________________________________________________________\n",
      "softmax_folat32 (Activation) (None, 275)               0         \n",
      "=================================================================\n",
      "Total params: 21,424,955\n",
      "Trainable params: 563,475\n",
      "Non-trainable params: 20,861,480\n",
      "_________________________________________________________________\n"
     ]
    }
   ],
   "metadata": {}
  },
  {
   "cell_type": "code",
   "execution_count": 14,
   "source": [
    "for layer in model.layers:\r\n",
    "    print(layer.name, layer.dtype, layer.dtype_policy)"
   ],
   "outputs": [
    {
     "output_type": "stream",
     "name": "stdout",
     "text": [
      "inputs float32 <Policy \"float32\">\n",
      "xception float32 <Policy \"mixed_float16\">\n",
      "pooling float32 <Policy \"mixed_float16\">\n",
      "dense float32 <Policy \"mixed_float16\">\n",
      "softmax_folat32 float32 <Policy \"float32\">\n"
     ]
    }
   ],
   "metadata": {}
  },
  {
   "cell_type": "code",
   "execution_count": 15,
   "source": [
    "future_extracted_model = model.fit(train,epochs=5,validation_data=validation,callbacks=[callback])"
   ],
   "outputs": [
    {
     "output_type": "stream",
     "name": "stdout",
     "text": [
      "Epoch 1/5\n",
      "616/616 [==============================] - 62s 94ms/step - loss: 2.3030 - acc: 0.5085 - val_loss: 0.8855 - val_acc: 0.8044\n",
      "Epoch 2/5\n",
      "616/616 [==============================] - 22s 35ms/step - loss: 1.1087 - acc: 0.7330 - val_loss: 0.6280 - val_acc: 0.8596\n",
      "Epoch 3/5\n",
      "616/616 [==============================] - 22s 35ms/step - loss: 0.8196 - acc: 0.8056 - val_loss: 0.5325 - val_acc: 0.8800\n",
      "Epoch 4/5\n",
      "616/616 [==============================] - 21s 35ms/step - loss: 0.6427 - acc: 0.8513 - val_loss: 0.4818 - val_acc: 0.8858\n",
      "Epoch 5/5\n",
      "616/616 [==============================] - 21s 35ms/step - loss: 0.5161 - acc: 0.8872 - val_loss: 0.4511 - val_acc: 0.8873\n"
     ]
    }
   ],
   "metadata": {}
  },
  {
   "cell_type": "code",
   "execution_count": 16,
   "source": [
    "model.evaluate(test)"
   ],
   "outputs": [
    {
     "output_type": "stream",
     "name": "stdout",
     "text": [
      "11/11 [==============================] - 1s 62ms/step - loss: 0.4042 - acc: 0.9062\n"
     ]
    },
    {
     "output_type": "execute_result",
     "data": {
      "text/plain": [
       "[0.40416011214256287, 0.906181812286377]"
      ]
     },
     "metadata": {},
     "execution_count": 16
    }
   ],
   "metadata": {}
  },
  {
   "cell_type": "code",
   "execution_count": 17,
   "source": [
    "transfer_model.trainable=True\r\n",
    "\r\n",
    "for layer in transfer_model.layers[:-20]:\r\n",
    "    layer.trainable=False"
   ],
   "outputs": [],
   "metadata": {}
  },
  {
   "cell_type": "code",
   "execution_count": 18,
   "source": [
    "model.compile(\r\n",
    "    loss='sparse_categorical_crossentropy',\r\n",
    "    optimizer=tf.keras.optimizers.Adam(1e-4),\r\n",
    "    metrics=['acc']\r\n",
    ")"
   ],
   "outputs": [],
   "metadata": {}
  },
  {
   "cell_type": "code",
   "execution_count": 19,
   "source": [
    "for layer in model.layers:\r\n",
    "    print (layer.name, layer.trainable,layer.dtype_policy)"
   ],
   "outputs": [
    {
     "output_type": "stream",
     "name": "stdout",
     "text": [
      "inputs True <Policy \"float32\">\n",
      "xception True <Policy \"mixed_float16\">\n",
      "pooling True <Policy \"mixed_float16\">\n",
      "dense True <Policy \"mixed_float16\">\n",
      "softmax_folat32 True <Policy \"float32\">\n"
     ]
    }
   ],
   "metadata": {}
  },
  {
   "cell_type": "code",
   "execution_count": 20,
   "source": [
    "for layer_number, layer in enumerate(transfer_model.layers):\r\n",
    "    print (layer_number, layer.name, layer.trainable)"
   ],
   "outputs": [
    {
     "output_type": "stream",
     "name": "stdout",
     "text": [
      "0 input_1 False\n",
      "1 block1_conv1 False\n",
      "2 block1_conv1_bn False\n",
      "3 block1_conv1_act False\n",
      "4 block1_conv2 False\n",
      "5 block1_conv2_bn False\n",
      "6 block1_conv2_act False\n",
      "7 block2_sepconv1 False\n",
      "8 block2_sepconv1_bn False\n",
      "9 block2_sepconv2_act False\n",
      "10 block2_sepconv2 False\n",
      "11 block2_sepconv2_bn False\n",
      "12 conv2d False\n",
      "13 block2_pool False\n",
      "14 batch_normalization False\n",
      "15 add False\n",
      "16 block3_sepconv1_act False\n",
      "17 block3_sepconv1 False\n",
      "18 block3_sepconv1_bn False\n",
      "19 block3_sepconv2_act False\n",
      "20 block3_sepconv2 False\n",
      "21 block3_sepconv2_bn False\n",
      "22 conv2d_1 False\n",
      "23 block3_pool False\n",
      "24 batch_normalization_1 False\n",
      "25 add_1 False\n",
      "26 block4_sepconv1_act False\n",
      "27 block4_sepconv1 False\n",
      "28 block4_sepconv1_bn False\n",
      "29 block4_sepconv2_act False\n",
      "30 block4_sepconv2 False\n",
      "31 block4_sepconv2_bn False\n",
      "32 conv2d_2 False\n",
      "33 block4_pool False\n",
      "34 batch_normalization_2 False\n",
      "35 add_2 False\n",
      "36 block5_sepconv1_act False\n",
      "37 block5_sepconv1 False\n",
      "38 block5_sepconv1_bn False\n",
      "39 block5_sepconv2_act False\n",
      "40 block5_sepconv2 False\n",
      "41 block5_sepconv2_bn False\n",
      "42 block5_sepconv3_act False\n",
      "43 block5_sepconv3 False\n",
      "44 block5_sepconv3_bn False\n",
      "45 add_3 False\n",
      "46 block6_sepconv1_act False\n",
      "47 block6_sepconv1 False\n",
      "48 block6_sepconv1_bn False\n",
      "49 block6_sepconv2_act False\n",
      "50 block6_sepconv2 False\n",
      "51 block6_sepconv2_bn False\n",
      "52 block6_sepconv3_act False\n",
      "53 block6_sepconv3 False\n",
      "54 block6_sepconv3_bn False\n",
      "55 add_4 False\n",
      "56 block7_sepconv1_act False\n",
      "57 block7_sepconv1 False\n",
      "58 block7_sepconv1_bn False\n",
      "59 block7_sepconv2_act False\n",
      "60 block7_sepconv2 False\n",
      "61 block7_sepconv2_bn False\n",
      "62 block7_sepconv3_act False\n",
      "63 block7_sepconv3 False\n",
      "64 block7_sepconv3_bn False\n",
      "65 add_5 False\n",
      "66 block8_sepconv1_act False\n",
      "67 block8_sepconv1 False\n",
      "68 block8_sepconv1_bn False\n",
      "69 block8_sepconv2_act False\n",
      "70 block8_sepconv2 False\n",
      "71 block8_sepconv2_bn False\n",
      "72 block8_sepconv3_act False\n",
      "73 block8_sepconv3 False\n",
      "74 block8_sepconv3_bn False\n",
      "75 add_6 False\n",
      "76 block9_sepconv1_act False\n",
      "77 block9_sepconv1 False\n",
      "78 block9_sepconv1_bn False\n",
      "79 block9_sepconv2_act False\n",
      "80 block9_sepconv2 False\n",
      "81 block9_sepconv2_bn False\n",
      "82 block9_sepconv3_act False\n",
      "83 block9_sepconv3 False\n",
      "84 block9_sepconv3_bn False\n",
      "85 add_7 False\n",
      "86 block10_sepconv1_act False\n",
      "87 block10_sepconv1 False\n",
      "88 block10_sepconv1_bn False\n",
      "89 block10_sepconv2_act False\n",
      "90 block10_sepconv2 False\n",
      "91 block10_sepconv2_bn False\n",
      "92 block10_sepconv3_act False\n",
      "93 block10_sepconv3 False\n",
      "94 block10_sepconv3_bn False\n",
      "95 add_8 False\n",
      "96 block11_sepconv1_act False\n",
      "97 block11_sepconv1 False\n",
      "98 block11_sepconv1_bn False\n",
      "99 block11_sepconv2_act False\n",
      "100 block11_sepconv2 False\n",
      "101 block11_sepconv2_bn False\n",
      "102 block11_sepconv3_act False\n",
      "103 block11_sepconv3 False\n",
      "104 block11_sepconv3_bn False\n",
      "105 add_9 False\n",
      "106 block12_sepconv1_act False\n",
      "107 block12_sepconv1 False\n",
      "108 block12_sepconv1_bn False\n",
      "109 block12_sepconv2_act False\n",
      "110 block12_sepconv2 False\n",
      "111 block12_sepconv2_bn False\n",
      "112 block12_sepconv3_act True\n",
      "113 block12_sepconv3 True\n",
      "114 block12_sepconv3_bn True\n",
      "115 add_10 True\n",
      "116 block13_sepconv1_act True\n",
      "117 block13_sepconv1 True\n",
      "118 block13_sepconv1_bn True\n",
      "119 block13_sepconv2_act True\n",
      "120 block13_sepconv2 True\n",
      "121 block13_sepconv2_bn True\n",
      "122 conv2d_3 True\n",
      "123 block13_pool True\n",
      "124 batch_normalization_3 True\n",
      "125 add_11 True\n",
      "126 block14_sepconv1 True\n",
      "127 block14_sepconv1_bn True\n",
      "128 block14_sepconv1_act True\n",
      "129 block14_sepconv2 True\n",
      "130 block14_sepconv2_bn True\n",
      "131 block14_sepconv2_act True\n"
     ]
    }
   ],
   "metadata": {}
  },
  {
   "cell_type": "code",
   "execution_count": 21,
   "source": [
    "model.summary()"
   ],
   "outputs": [
    {
     "output_type": "stream",
     "name": "stdout",
     "text": [
      "Model: \"model\"\n",
      "_________________________________________________________________\n",
      "Layer (type)                 Output Shape              Param #   \n",
      "=================================================================\n",
      "inputs (InputLayer)          [(None, 224, 224, 3)]     0         \n",
      "_________________________________________________________________\n",
      "xception (Functional)        (None, None, None, 2048)  20861480  \n",
      "_________________________________________________________________\n",
      "pooling (GlobalAveragePoolin (None, 2048)              0         \n",
      "_________________________________________________________________\n",
      "dense (Dense)                (None, 275)               563475    \n",
      "_________________________________________________________________\n",
      "softmax_folat32 (Activation) (None, 275)               0         \n",
      "=================================================================\n",
      "Total params: 21,424,955\n",
      "Trainable params: 7,889,851\n",
      "Non-trainable params: 13,535,104\n",
      "_________________________________________________________________\n"
     ]
    }
   ],
   "metadata": {}
  },
  {
   "cell_type": "code",
   "execution_count": 22,
   "source": [
    "epochs_2 = 10\r\n",
    "fine_tuned_model = model.fit(\r\n",
    "    train,\r\n",
    "    epochs=epochs_2,\r\n",
    "    validation_data=validation,\r\n",
    "    initial_epoch=future_extracted_model.epoch[-1]\r\n",
    ")"
   ],
   "outputs": [
    {
     "output_type": "stream",
     "name": "stdout",
     "text": [
      "Epoch 5/10\n",
      "616/616 [==============================] - 29s 44ms/step - loss: 0.2980 - acc: 0.9171 - val_loss: 0.2384 - val_acc: 0.9316\n",
      "Epoch 6/10\n",
      "616/616 [==============================] - 27s 44ms/step - loss: 0.0952 - acc: 0.9749 - val_loss: 0.2467 - val_acc: 0.9353\n",
      "Epoch 7/10\n",
      "616/616 [==============================] - 28s 46ms/step - loss: 0.0428 - acc: 0.9890 - val_loss: 0.2439 - val_acc: 0.9396\n",
      "Epoch 8/10\n",
      "616/616 [==============================] - 28s 45ms/step - loss: 0.0348 - acc: 0.9899 - val_loss: 0.3002 - val_acc: 0.9229\n",
      "Epoch 9/10\n",
      "616/616 [==============================] - 27s 44ms/step - loss: 0.0313 - acc: 0.9910 - val_loss: 0.2775 - val_acc: 0.9324\n",
      "Epoch 10/10\n",
      "616/616 [==============================] - 28s 45ms/step - loss: 0.0246 - acc: 0.9929 - val_loss: 0.2786 - val_acc: 0.9433\n"
     ]
    }
   ],
   "metadata": {}
  },
  {
   "cell_type": "code",
   "execution_count": 23,
   "source": [
    "for i in range(5):\r\n",
    "    model.evaluate(test)"
   ],
   "outputs": [
    {
     "output_type": "stream",
     "name": "stdout",
     "text": [
      "11/11 [==============================] - 1s 53ms/step - loss: 0.1515 - acc: 0.9527\n",
      "11/11 [==============================] - 1s 53ms/step - loss: 0.1515 - acc: 0.9527\n",
      "11/11 [==============================] - 1s 53ms/step - loss: 0.1515 - acc: 0.9527\n",
      "11/11 [==============================] - 1s 53ms/step - loss: 0.1515 - acc: 0.9527\n",
      "11/11 [==============================] - 1s 53ms/step - loss: 0.1515 - acc: 0.9527\n"
     ]
    }
   ],
   "metadata": {}
  },
  {
   "cell_type": "code",
   "execution_count": null,
   "source": [
    "model.save('fine_tuned_model.h5')"
   ],
   "outputs": [],
   "metadata": {}
  },
  {
   "cell_type": "code",
   "execution_count": null,
   "source": [
    "saved_model2 =  tf.keras.models.load_model('fine_tuned_model.h5')"
   ],
   "outputs": [],
   "metadata": {}
  },
  {
   "cell_type": "code",
   "execution_count": null,
   "source": [
    "saved_model2.evaluate(test)"
   ],
   "outputs": [],
   "metadata": {}
  },
  {
   "cell_type": "code",
   "execution_count": 30,
   "source": [
    "#image = 'F:/Birds/images_to_test/3.jpg'\r\n",
    "image = 'C:/Users/akghost96/Downloads/images.jpg'\r\n",
    "img = tf.keras.preprocessing.image.load_img(image, target_size=(img_size,img_size))\r\n",
    "img = tf.keras.preprocessing.image.img_to_array(img)\r\n",
    "img = tf.expand_dims(img,0)\r\n",
    "img = img/255\r\n",
    "\r\n",
    "model.predict(img)"
   ],
   "outputs": [
    {
     "output_type": "execute_result",
     "data": {
      "text/plain": [
       "array([[9.99626160e-01, 7.60257969e-16, 9.49009009e-22, 5.98890055e-18,\n",
       "        2.71078310e-16, 7.00173399e-18, 6.57752020e-18, 1.32312050e-19,\n",
       "        8.99040439e-18, 1.39246095e-17, 5.81338536e-21, 1.36101701e-13,\n",
       "        2.22514629e-17, 2.00842745e-10, 1.16589334e-16, 1.55291957e-06,\n",
       "        9.09366499e-20, 8.27987566e-20, 9.77661103e-19, 7.51625053e-14,\n",
       "        5.99792216e-21, 5.10717900e-12, 1.98623888e-19, 6.38475471e-21,\n",
       "        1.54223436e-13, 1.26976005e-20, 2.11116001e-16, 6.41931924e-11,\n",
       "        1.70147945e-22, 5.11487325e-15, 2.22849824e-20, 4.99185155e-08,\n",
       "        2.97273491e-13, 8.80062534e-17, 3.03227200e-11, 9.24790713e-12,\n",
       "        9.36821616e-17, 1.34961945e-17, 1.54455770e-16, 6.76591292e-12,\n",
       "        1.01874621e-17, 7.00173399e-18, 7.23262505e-10, 1.15403179e-06,\n",
       "        5.85366242e-14, 3.30738469e-18, 1.70147945e-22, 1.19103495e-17,\n",
       "        3.66864627e-17, 2.09033173e-17, 5.46117040e-21, 4.85285606e-14,\n",
       "        7.61403262e-19, 2.01992867e-11, 1.03044713e-19, 2.02601877e-17,\n",
       "        4.48280143e-22, 6.06681178e-23, 3.34034027e-17, 1.03914934e-15,\n",
       "        3.59120423e-16, 3.30738469e-18, 4.90121127e-13, 3.00235574e-12,\n",
       "        4.32530368e-13, 9.68015608e-20, 6.71935976e-19, 1.92802894e-22,\n",
       "        3.43084601e-08, 2.86144844e-20, 9.57023484e-18, 4.51385933e-15,\n",
       "        3.49120933e-22, 2.39225768e-16, 2.51384174e-11, 7.22399246e-18,\n",
       "        3.54508506e-11, 7.08215303e-20, 1.31006652e-20, 3.33531624e-14,\n",
       "        2.74191824e-18, 1.45097763e-16, 9.15666848e-13, 2.46819630e-16,\n",
       "        1.82102076e-12, 6.79653597e-21, 1.58024196e-20, 1.57975066e-09,\n",
       "        4.16338355e-20, 4.11610656e-18, 2.02601877e-17, 3.58580299e-13,\n",
       "        3.78510172e-17, 4.74327133e-10, 4.62510083e-22, 5.49900633e-14,\n",
       "        7.45330595e-18, 2.11434034e-19, 8.45842502e-21, 5.69066980e-20,\n",
       "        6.16043414e-12, 2.90998280e-12, 6.51060148e-08, 8.16124859e-12,\n",
       "        4.11610656e-18, 4.27618878e-11, 2.54654500e-16, 3.62698746e-15,\n",
       "        5.51387114e-09, 2.34175959e-15, 5.35394217e-23, 1.09855773e-22,\n",
       "        3.98946769e-18, 1.57786505e-17, 1.18924358e-14, 4.28263043e-14,\n",
       "        7.91015430e-12, 8.45842502e-21, 1.78258068e-11, 2.46819630e-16,\n",
       "        7.01228147e-21, 7.22399246e-18, 1.52701880e-14, 3.93823402e-13,\n",
       "        3.71637295e-22, 1.92512885e-19, 1.12323905e-04, 1.23069369e-20,\n",
       "        1.09690534e-19, 5.39103648e-16, 9.48713955e-11, 1.54455770e-16,\n",
       "        2.44384523e-17, 2.15020293e-11, 1.37872324e-18, 3.89351398e-11,\n",
       "        2.70670612e-13, 1.25345354e-15, 1.88165659e-15, 3.52069286e-18,\n",
       "        1.80577101e-16, 1.03199951e-22, 3.33029888e-11, 3.73087161e-09,\n",
       "        3.48595779e-19, 7.59114397e-13, 7.52757254e-17, 2.13795995e-10,\n",
       "        2.25070365e-19, 1.29324239e-15, 7.22399246e-18, 6.58742891e-21,\n",
       "        1.39246095e-17, 7.67833334e-15, 3.29744240e-12, 2.83321780e-21,\n",
       "        7.91015430e-12, 6.77610518e-15, 1.98325141e-16, 2.13219623e-15,\n",
       "        2.71078310e-16, 2.51006043e-08, 1.56229799e-18, 8.99040439e-18,\n",
       "        1.40633582e-16, 7.59114397e-13, 1.48403823e-09, 2.51762841e-14,\n",
       "        5.61758857e-15, 7.86511481e-11, 2.86144844e-20, 2.09348039e-20,\n",
       "        8.78738746e-14, 6.93265500e-19, 7.37977300e-19, 1.60946615e-15,\n",
       "        2.98169763e-19, 1.21306134e-12, 2.57111969e-04, 2.98618941e-22,\n",
       "        1.25534171e-18, 4.86016686e-17, 6.66308965e-23, 3.21529253e-24,\n",
       "        2.59363971e-11, 3.99547744e-21, 2.76507400e-14, 4.07549768e-19,\n",
       "        1.53162297e-20, 4.20486770e-19, 3.74775807e-18, 8.25498591e-14,\n",
       "        7.37977300e-19, 1.74758062e-13, 5.92089477e-16, 5.73872816e-16,\n",
       "        1.08935798e-26, 2.08718744e-14, 9.19811109e-22, 6.93265500e-19,\n",
       "        1.03355409e-25, 1.02028092e-20, 1.63040417e-20, 3.66864627e-17,\n",
       "        6.16971387e-15, 1.66305758e-18, 4.51385933e-15, 6.51262664e-19,\n",
       "        1.43234391e-11, 2.42337969e-21, 1.15403179e-06, 4.80497820e-15,\n",
       "        2.00000021e-12, 6.78631300e-18, 1.14128235e-15, 9.58465243e-21,\n",
       "        7.28500038e-14, 8.61485182e-16, 2.09663404e-23, 2.74191824e-18,\n",
       "        8.52985868e-17, 3.11168080e-21, 1.86870963e-22, 1.42034879e-15,\n",
       "        2.73367592e-12, 5.81338536e-21, 1.39246095e-17, 1.29909565e-24,\n",
       "        7.27404248e-11, 1.04950381e-14, 1.36101701e-13, 4.66416045e-18,\n",
       "        1.32710982e-25, 2.34455769e-07, 3.67417246e-20, 1.15092068e-11,\n",
       "        1.66055600e-15, 3.06709953e-13, 1.09855773e-22, 1.92223328e-16,\n",
       "        7.71308592e-24, 1.00717818e-15, 5.32981997e-14, 1.61675070e-24,\n",
       "        1.29324239e-15, 5.34588994e-20, 1.15439068e-17, 6.18639140e-10,\n",
       "        1.37251099e-09, 4.10991567e-15, 2.86144844e-20, 4.86748809e-20,\n",
       "        5.18921917e-23, 1.24108697e-16, 1.88732970e-21, 2.60537853e-20,\n",
       "        9.77661103e-19, 7.93400376e-18, 3.44637424e-17, 2.36865600e-17,\n",
       "        5.44475320e-15, 5.39915727e-19, 1.53759856e-07, 1.60704523e-12,\n",
       "        1.80577101e-16, 1.41821244e-12, 2.24731817e-16, 2.74191824e-18,\n",
       "        8.08073118e-13, 2.26288810e-09, 1.87882609e-12, 8.33724095e-13,\n",
       "        1.30809606e-17, 1.75284974e-19, 1.25345354e-15]], dtype=float32)"
      ]
     },
     "metadata": {},
     "execution_count": 30
    }
   ],
   "metadata": {}
  },
  {
   "cell_type": "code",
   "execution_count": null,
   "source": [],
   "outputs": [],
   "metadata": {}
  }
 ],
 "metadata": {
  "orig_nbformat": 4,
  "language_info": {
   "name": "python",
   "version": "3.9.6",
   "mimetype": "text/x-python",
   "codemirror_mode": {
    "name": "ipython",
    "version": 3
   },
   "pygments_lexer": "ipython3",
   "nbconvert_exporter": "python",
   "file_extension": ".py"
  },
  "kernelspec": {
   "name": "python3",
   "display_name": "Python 3.9.6 64-bit"
  },
  "interpreter": {
   "hash": "71da8102031d35fa1af3fda8c0c685000f00e853a9e2079a640f42dc86bc2fc0"
  }
 },
 "nbformat": 4,
 "nbformat_minor": 2
}